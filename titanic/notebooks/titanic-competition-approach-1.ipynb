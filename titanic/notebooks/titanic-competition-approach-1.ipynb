{
 "cells": [
  {
   "cell_type": "code",
   "execution_count": 1,
   "id": "13da2ff2",
   "metadata": {
    "_cell_guid": "b1076dfc-b9ad-4769-8c92-a6c4dae69d19",
    "_uuid": "8f2839f25d086af736a60e9eeb907d3b93b6e0e5",
    "execution": {
     "iopub.execute_input": "2025-09-27T14:33:40.563047Z",
     "iopub.status.busy": "2025-09-27T14:33:40.562696Z",
     "iopub.status.idle": "2025-09-27T14:33:42.825492Z",
     "shell.execute_reply": "2025-09-27T14:33:42.823871Z"
    },
    "papermill": {
     "duration": 2.270608,
     "end_time": "2025-09-27T14:33:42.827397",
     "exception": false,
     "start_time": "2025-09-27T14:33:40.556789",
     "status": "completed"
    },
    "tags": []
   },
   "outputs": [
    {
     "name": "stdout",
     "output_type": "stream",
     "text": [
      "/kaggle/input/titanic/train.csv\n",
      "/kaggle/input/titanic/test.csv\n",
      "/kaggle/input/titanic/gender_submission.csv\n"
     ]
    }
   ],
   "source": [
    "# This Python 3 environment comes with many helpful analytics libraries installed\n",
    "# It is defined by the kaggle/python Docker image: https://github.com/kaggle/docker-python\n",
    "# For example, here's several helpful packages to load\n",
    "\n",
    "import numpy as np # linear algebra\n",
    "import pandas as pd # data processing, CSV file I/O (e.g. pd.read_csv)\n",
    "\n",
    "# Input data files are available in the read-only \"../input/\" directory\n",
    "# For example, running this (by clicking run or pressing Shift+Enter) will list all files under the input directory\n",
    "\n",
    "import os\n",
    "for dirname, _, filenames in os.walk('/kaggle/input'):\n",
    "    for filename in filenames:\n",
    "        print(os.path.join(dirname, filename))\n",
    "\n",
    "# You can write up to 20GB to the current directory (/kaggle/working/) that gets preserved as output when you create a version using \"Save & Run All\" \n",
    "# You can also write temporary files to /kaggle/temp/, but they won't be saved outside of the current session"
   ]
  },
  {
   "cell_type": "code",
   "execution_count": 2,
   "id": "7d7ef2de",
   "metadata": {
    "execution": {
     "iopub.execute_input": "2025-09-27T14:33:42.835099Z",
     "iopub.status.busy": "2025-09-27T14:33:42.834710Z",
     "iopub.status.idle": "2025-09-27T14:33:42.888779Z",
     "shell.execute_reply": "2025-09-27T14:33:42.887478Z"
    },
    "papermill": {
     "duration": 0.059734,
     "end_time": "2025-09-27T14:33:42.890609",
     "exception": false,
     "start_time": "2025-09-27T14:33:42.830875",
     "status": "completed"
    },
    "tags": []
   },
   "outputs": [
    {
     "data": {
      "text/html": [
       "<div>\n",
       "<style scoped>\n",
       "    .dataframe tbody tr th:only-of-type {\n",
       "        vertical-align: middle;\n",
       "    }\n",
       "\n",
       "    .dataframe tbody tr th {\n",
       "        vertical-align: top;\n",
       "    }\n",
       "\n",
       "    .dataframe thead th {\n",
       "        text-align: right;\n",
       "    }\n",
       "</style>\n",
       "<table border=\"1\" class=\"dataframe\">\n",
       "  <thead>\n",
       "    <tr style=\"text-align: right;\">\n",
       "      <th></th>\n",
       "      <th>PassengerId</th>\n",
       "      <th>Survived</th>\n",
       "      <th>Pclass</th>\n",
       "      <th>Name</th>\n",
       "      <th>Sex</th>\n",
       "      <th>Age</th>\n",
       "      <th>SibSp</th>\n",
       "      <th>Parch</th>\n",
       "      <th>Ticket</th>\n",
       "      <th>Fare</th>\n",
       "      <th>Cabin</th>\n",
       "      <th>Embarked</th>\n",
       "    </tr>\n",
       "  </thead>\n",
       "  <tbody>\n",
       "    <tr>\n",
       "      <th>0</th>\n",
       "      <td>1</td>\n",
       "      <td>0</td>\n",
       "      <td>3</td>\n",
       "      <td>Braund, Mr. Owen Harris</td>\n",
       "      <td>male</td>\n",
       "      <td>22.0</td>\n",
       "      <td>1</td>\n",
       "      <td>0</td>\n",
       "      <td>A/5 21171</td>\n",
       "      <td>7.2500</td>\n",
       "      <td>NaN</td>\n",
       "      <td>S</td>\n",
       "    </tr>\n",
       "    <tr>\n",
       "      <th>1</th>\n",
       "      <td>2</td>\n",
       "      <td>1</td>\n",
       "      <td>1</td>\n",
       "      <td>Cumings, Mrs. John Bradley (Florence Briggs Th...</td>\n",
       "      <td>female</td>\n",
       "      <td>38.0</td>\n",
       "      <td>1</td>\n",
       "      <td>0</td>\n",
       "      <td>PC 17599</td>\n",
       "      <td>71.2833</td>\n",
       "      <td>C85</td>\n",
       "      <td>C</td>\n",
       "    </tr>\n",
       "    <tr>\n",
       "      <th>2</th>\n",
       "      <td>3</td>\n",
       "      <td>1</td>\n",
       "      <td>3</td>\n",
       "      <td>Heikkinen, Miss. Laina</td>\n",
       "      <td>female</td>\n",
       "      <td>26.0</td>\n",
       "      <td>0</td>\n",
       "      <td>0</td>\n",
       "      <td>STON/O2. 3101282</td>\n",
       "      <td>7.9250</td>\n",
       "      <td>NaN</td>\n",
       "      <td>S</td>\n",
       "    </tr>\n",
       "    <tr>\n",
       "      <th>3</th>\n",
       "      <td>4</td>\n",
       "      <td>1</td>\n",
       "      <td>1</td>\n",
       "      <td>Futrelle, Mrs. Jacques Heath (Lily May Peel)</td>\n",
       "      <td>female</td>\n",
       "      <td>35.0</td>\n",
       "      <td>1</td>\n",
       "      <td>0</td>\n",
       "      <td>113803</td>\n",
       "      <td>53.1000</td>\n",
       "      <td>C123</td>\n",
       "      <td>S</td>\n",
       "    </tr>\n",
       "    <tr>\n",
       "      <th>4</th>\n",
       "      <td>5</td>\n",
       "      <td>0</td>\n",
       "      <td>3</td>\n",
       "      <td>Allen, Mr. William Henry</td>\n",
       "      <td>male</td>\n",
       "      <td>35.0</td>\n",
       "      <td>0</td>\n",
       "      <td>0</td>\n",
       "      <td>373450</td>\n",
       "      <td>8.0500</td>\n",
       "      <td>NaN</td>\n",
       "      <td>S</td>\n",
       "    </tr>\n",
       "  </tbody>\n",
       "</table>\n",
       "</div>"
      ],
      "text/plain": [
       "   PassengerId  Survived  Pclass  \\\n",
       "0            1         0       3   \n",
       "1            2         1       1   \n",
       "2            3         1       3   \n",
       "3            4         1       1   \n",
       "4            5         0       3   \n",
       "\n",
       "                                                Name     Sex   Age  SibSp  \\\n",
       "0                            Braund, Mr. Owen Harris    male  22.0      1   \n",
       "1  Cumings, Mrs. John Bradley (Florence Briggs Th...  female  38.0      1   \n",
       "2                             Heikkinen, Miss. Laina  female  26.0      0   \n",
       "3       Futrelle, Mrs. Jacques Heath (Lily May Peel)  female  35.0      1   \n",
       "4                           Allen, Mr. William Henry    male  35.0      0   \n",
       "\n",
       "   Parch            Ticket     Fare Cabin Embarked  \n",
       "0      0         A/5 21171   7.2500   NaN        S  \n",
       "1      0          PC 17599  71.2833   C85        C  \n",
       "2      0  STON/O2. 3101282   7.9250   NaN        S  \n",
       "3      0            113803  53.1000  C123        S  \n",
       "4      0            373450   8.0500   NaN        S  "
      ]
     },
     "execution_count": 2,
     "metadata": {},
     "output_type": "execute_result"
    }
   ],
   "source": [
    "##Loading the train data\n",
    "train_data=pd.read_csv(\"/kaggle/input/titanic/train.csv\")\n",
    "train_data.head()"
   ]
  },
  {
   "cell_type": "code",
   "execution_count": 3,
   "id": "bb5658b4",
   "metadata": {
    "execution": {
     "iopub.execute_input": "2025-09-27T14:33:42.898248Z",
     "iopub.status.busy": "2025-09-27T14:33:42.897874Z",
     "iopub.status.idle": "2025-09-27T14:33:42.914386Z",
     "shell.execute_reply": "2025-09-27T14:33:42.913369Z"
    },
    "jupyter": {
     "source_hidden": true
    },
    "papermill": {
     "duration": 0.022057,
     "end_time": "2025-09-27T14:33:42.915903",
     "exception": false,
     "start_time": "2025-09-27T14:33:42.893846",
     "status": "completed"
    },
    "tags": []
   },
   "outputs": [
    {
     "name": "stdout",
     "output_type": "stream",
     "text": [
      "female survival rate  0.7420382165605095\n",
      "men survival rate 0.18890814558058924\n"
     ]
    }
   ],
   "source": [
    "#testing the hypothesis that all females survived\n",
    "women=train_data.loc[train_data.Sex==\"female\"]\n",
    "women.head()\n",
    "rate=sum(women[\"Survived\"])/len(women[\"Survived\"])\n",
    "print(\"female survival rate \",rate)\n",
    "men=train_data.loc[train_data.Sex==\"male\"]\n",
    "mrate=sum(men[\"Survived\"])/len(men[\"Survived\"])\n",
    "print(\"men survival rate\",mrate)\n"
   ]
  },
  {
   "cell_type": "code",
   "execution_count": 4,
   "id": "21d241f2",
   "metadata": {
    "execution": {
     "iopub.execute_input": "2025-09-27T14:33:42.923580Z",
     "iopub.status.busy": "2025-09-27T14:33:42.923238Z",
     "iopub.status.idle": "2025-09-27T14:33:45.485399Z",
     "shell.execute_reply": "2025-09-27T14:33:45.484194Z"
    },
    "papermill": {
     "duration": 2.568134,
     "end_time": "2025-09-27T14:33:45.487250",
     "exception": false,
     "start_time": "2025-09-27T14:33:42.919116",
     "status": "completed"
    },
    "tags": []
   },
   "outputs": [],
   "source": [
    "#now lets proceed with importing the modules required for training \n",
    "from sklearn import tree\n",
    "from sklearn.preprocessing import LabelEncoder\n",
    "\n"
   ]
  },
  {
   "cell_type": "code",
   "execution_count": 5,
   "id": "dd165c0f",
   "metadata": {
    "execution": {
     "iopub.execute_input": "2025-09-27T14:33:45.496124Z",
     "iopub.status.busy": "2025-09-27T14:33:45.495098Z",
     "iopub.status.idle": "2025-09-27T14:33:45.534186Z",
     "shell.execute_reply": "2025-09-27T14:33:45.532885Z"
    },
    "papermill": {
     "duration": 0.044912,
     "end_time": "2025-09-27T14:33:45.535927",
     "exception": false,
     "start_time": "2025-09-27T14:33:45.491015",
     "status": "completed"
    },
    "tags": []
   },
   "outputs": [],
   "source": [
    "## lets use a decision tree to predict the survivals \n",
    "##But first let`s clean the data\n",
    "\n",
    "test_data  = pd.read_csv(\"/kaggle/input/titanic/test.csv\")\n",
    "\n",
    "clean = train_data.dropna()\n",
    "clean = clean.drop_duplicates()\n",
    "clean = clean.drop([\"Name\", \"Ticket\", \"Cabin\"], axis=1)\n",
    "\n",
    "le_sex = LabelEncoder()\n",
    "le_emb = LabelEncoder()\n",
    "\n",
    "clean[\"Sex\"] = le_sex.fit_transform(clean[\"Sex\"])\n",
    "clean[\"Embarked\"] = le_emb.fit_transform(clean[\"Embarked\"])\n",
    "\n",
    "\n",
    "clean_test = test_data.drop([\"Name\", \"Ticket\", \"Cabin\"], axis=1)\n",
    "clean_test[\"Age\"] = clean_test[\"Age\"].fillna(clean_test[\"Age\"].median())\n",
    "clean_test[\"Fare\"] = clean_test[\"Fare\"].fillna(clean_test[\"Fare\"].median())\n",
    "clean_test[\"Embarked\"] = clean_test[\"Embarked\"].fillna(clean_test[\"Embarked\"].mode()[0])\n",
    "\n",
    "\n",
    "\n",
    "clean_test[\"Sex\"] = le_sex.transform(clean_test[\"Sex\"])\n",
    "clean_test[\"Embarked\"] = le_emb.transform(clean_test[\"Embarked\"])"
   ]
  },
  {
   "cell_type": "code",
   "execution_count": 6,
   "id": "a38b497c",
   "metadata": {
    "execution": {
     "iopub.execute_input": "2025-09-27T14:33:45.544037Z",
     "iopub.status.busy": "2025-09-27T14:33:45.543726Z",
     "iopub.status.idle": "2025-09-27T14:33:45.560801Z",
     "shell.execute_reply": "2025-09-27T14:33:45.559783Z"
    },
    "papermill": {
     "duration": 0.022929,
     "end_time": "2025-09-27T14:33:45.562607",
     "exception": false,
     "start_time": "2025-09-27T14:33:45.539678",
     "status": "completed"
    },
    "tags": []
   },
   "outputs": [],
   "source": [
    "## now lets divide data into info and target\n",
    "from sklearn.model_selection import train_test_split\n",
    "target=clean[\"Survived\"]\n",
    "target\n",
    "info= clean.drop([\"Survived\"], axis=1)\n",
    "info\n",
    "\n",
    "#further divide the data into train and test \n",
    "info_train, info_test, target_train, target_test = train_test_split(\n",
    "    info, target, test_size=0.2, random_state=42, stratify=target\n",
    ")\n"
   ]
  },
  {
   "cell_type": "code",
   "execution_count": 7,
   "id": "64ad4776",
   "metadata": {
    "execution": {
     "iopub.execute_input": "2025-09-27T14:33:45.571358Z",
     "iopub.status.busy": "2025-09-27T14:33:45.570918Z",
     "iopub.status.idle": "2025-09-27T14:33:45.585359Z",
     "shell.execute_reply": "2025-09-27T14:33:45.584185Z"
    },
    "papermill": {
     "duration": 0.020857,
     "end_time": "2025-09-27T14:33:45.586979",
     "exception": false,
     "start_time": "2025-09-27T14:33:45.566122",
     "status": "completed"
    },
    "tags": []
   },
   "outputs": [
    {
     "data": {
      "text/plain": [
       "0.7567567567567568"
      ]
     },
     "execution_count": 7,
     "metadata": {},
     "output_type": "execute_result"
    }
   ],
   "source": [
    "##training and testing the model\n",
    "model=tree.DecisionTreeClassifier()\n",
    "model.fit(info_train,target_train)\n",
    "model.score(info_test,target_test)\n"
   ]
  },
  {
   "cell_type": "code",
   "execution_count": 8,
   "id": "e114b58b",
   "metadata": {
    "execution": {
     "iopub.execute_input": "2025-09-27T14:33:45.594898Z",
     "iopub.status.busy": "2025-09-27T14:33:45.594530Z",
     "iopub.status.idle": "2025-09-27T14:33:45.609515Z",
     "shell.execute_reply": "2025-09-27T14:33:45.608043Z"
    },
    "papermill": {
     "duration": 0.021114,
     "end_time": "2025-09-27T14:33:45.611457",
     "exception": false,
     "start_time": "2025-09-27T14:33:45.590343",
     "status": "completed"
    },
    "tags": []
   },
   "outputs": [],
   "source": [
    "#testing the model on real test data and creating the submssion file \n",
    "\n",
    "predictions = model.predict(clean_test)\n",
    "output = pd.DataFrame({'PassengerId': clean_test.PassengerId, 'Survived': predictions})\n",
    "output.to_csv('submission.csv', index=False)\n"
   ]
  },
  {
   "cell_type": "code",
   "execution_count": 9,
   "id": "dde92935",
   "metadata": {
    "execution": {
     "iopub.execute_input": "2025-09-27T14:33:45.619194Z",
     "iopub.status.busy": "2025-09-27T14:33:45.618893Z",
     "iopub.status.idle": "2025-09-27T14:33:45.625193Z",
     "shell.execute_reply": "2025-09-27T14:33:45.624272Z"
    },
    "papermill": {
     "duration": 0.012224,
     "end_time": "2025-09-27T14:33:45.627121",
     "exception": false,
     "start_time": "2025-09-27T14:33:45.614897",
     "status": "completed"
    },
    "tags": []
   },
   "outputs": [
    {
     "data": {
      "text/plain": [
       "418"
      ]
     },
     "execution_count": 9,
     "metadata": {},
     "output_type": "execute_result"
    }
   ],
   "source": [
    "clean_test.shape[0]"
   ]
  }
 ],
 "metadata": {
  "kaggle": {
   "accelerator": "none",
   "dataSources": [
    {
     "databundleVersionId": 26502,
     "sourceId": 3136,
     "sourceType": "competition"
    }
   ],
   "dockerImageVersionId": 31089,
   "isGpuEnabled": false,
   "isInternetEnabled": true,
   "language": "python",
   "sourceType": "notebook"
  },
  "kernelspec": {
   "display_name": "Python 3",
   "language": "python",
   "name": "python3"
  },
  "language_info": {
   "codemirror_mode": {
    "name": "ipython",
    "version": 3
   },
   "file_extension": ".py",
   "mimetype": "text/x-python",
   "name": "python",
   "nbconvert_exporter": "python",
   "pygments_lexer": "ipython3",
   "version": "3.11.13"
  },
  "papermill": {
   "default_parameters": {},
   "duration": 12.089621,
   "end_time": "2025-09-27T14:33:46.252600",
   "environment_variables": {},
   "exception": null,
   "input_path": "__notebook__.ipynb",
   "output_path": "__notebook__.ipynb",
   "parameters": {},
   "start_time": "2025-09-27T14:33:34.162979",
   "version": "2.6.0"
  }
 },
 "nbformat": 4,
 "nbformat_minor": 5
}
